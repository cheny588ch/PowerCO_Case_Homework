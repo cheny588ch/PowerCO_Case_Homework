{
 "cells": [
  {
   "cell_type": "code",
   "execution_count": 2,
   "metadata": {},
   "outputs": [],
   "source": [
    "import pandas as pd\n",
    "import numpy as np\n",
    "import statsmodels.api as sm\n",
    "import pylab as pl\n",
    "import matplotlib\n",
    "import matplotlib.pyplot as plt\n",
    "\n",
    "dfTest = pd.read_csv('ml_case_test_data.csv')\n",
    "dfTestHist = pd.read_csv('ml_case_test_hist_data.csv')\n",
    "dfTestOutput = pd.read_csv('ml_case_test_output_template.csv')\n"
   ]
  },
  {
   "cell_type": "code",
   "execution_count": 3,
   "metadata": {},
   "outputs": [
    {
     "name": "stdout",
     "output_type": "stream",
     "text": [
      "<class 'pandas.core.frame.DataFrame'>\n",
      "RangeIndex: 4024 entries, 0 to 4023\n",
      "Data columns (total 32 columns):\n",
      "id                          4024 non-null object\n",
      "activity_new                1670 non-null object\n",
      "campaign_disc_ele           0 non-null float64\n",
      "channel_sales               2968 non-null object\n",
      "cons_12m                    4024 non-null int64\n",
      "cons_gas_12m                4024 non-null int64\n",
      "cons_last_month             4024 non-null int64\n",
      "date_activ                  4024 non-null object\n",
      "date_end                    4024 non-null object\n",
      "date_first_activ            877 non-null object\n",
      "date_modif_prod             3979 non-null object\n",
      "date_renewal                4020 non-null object\n",
      "forecast_base_bill_ele      877 non-null float64\n",
      "forecast_base_bill_year     877 non-null float64\n",
      "forecast_bill_12m           877 non-null float64\n",
      "forecast_cons               877 non-null float64\n",
      "forecast_cons_12m           4024 non-null float64\n",
      "forecast_cons_year          4024 non-null int64\n",
      "forecast_discount_energy    4000 non-null float64\n",
      "forecast_meter_rent_12m     4024 non-null float64\n",
      "forecast_price_energy_p1    4000 non-null float64\n",
      "forecast_price_energy_p2    4000 non-null float64\n",
      "forecast_price_pow_p1       4000 non-null float64\n",
      "has_gas                     4024 non-null object\n",
      "imp_cons                    4024 non-null float64\n",
      "margin_gross_pow_ele        4022 non-null float64\n",
      "margin_net_pow_ele          4022 non-null float64\n",
      "nb_prod_act                 4024 non-null int64\n",
      "net_margin                  4021 non-null float64\n",
      "num_years_antig             4024 non-null int64\n",
      "origin_up                   3997 non-null object\n",
      "pow_max                     4023 non-null float64\n",
      "dtypes: float64(16), int64(6), object(10)\n",
      "memory usage: 1006.1+ KB\n"
     ]
    }
   ],
   "source": [
    "# Explore the Testing Datasets\n",
    "dfTest.info()"
   ]
  },
  {
   "cell_type": "code",
   "execution_count": 9,
   "metadata": {},
   "outputs": [
    {
     "data": {
      "text/html": [
       "<div>\n",
       "<style scoped>\n",
       "    .dataframe tbody tr th:only-of-type {\n",
       "        vertical-align: middle;\n",
       "    }\n",
       "\n",
       "    .dataframe tbody tr th {\n",
       "        vertical-align: top;\n",
       "    }\n",
       "\n",
       "    .dataframe thead th {\n",
       "        text-align: right;\n",
       "    }\n",
       "</style>\n",
       "<table border=\"1\" class=\"dataframe\">\n",
       "  <thead>\n",
       "    <tr style=\"text-align: right;\">\n",
       "      <th></th>\n",
       "      <th>date_activ</th>\n",
       "      <th>date_end</th>\n",
       "      <th>date_modif_prod</th>\n",
       "      <th>date_renewal</th>\n",
       "    </tr>\n",
       "  </thead>\n",
       "  <tbody>\n",
       "    <tr>\n",
       "      <th>0</th>\n",
       "      <td>2011-09-06</td>\n",
       "      <td>2016-09-06</td>\n",
       "      <td>2015-08-27</td>\n",
       "      <td>2015-09-07</td>\n",
       "    </tr>\n",
       "    <tr>\n",
       "      <th>1</th>\n",
       "      <td>2010-12-13</td>\n",
       "      <td>2016-12-31</td>\n",
       "      <td>2010-12-13</td>\n",
       "      <td>2016-01-01</td>\n",
       "    </tr>\n",
       "    <tr>\n",
       "      <th>2</th>\n",
       "      <td>2010-09-04</td>\n",
       "      <td>2016-09-04</td>\n",
       "      <td>2015-08-27</td>\n",
       "      <td>2015-09-05</td>\n",
       "    </tr>\n",
       "    <tr>\n",
       "      <th>3</th>\n",
       "      <td>2011-01-03</td>\n",
       "      <td>2017-01-03</td>\n",
       "      <td>2011-01-03</td>\n",
       "      <td>2016-01-04</td>\n",
       "    </tr>\n",
       "    <tr>\n",
       "      <th>4</th>\n",
       "      <td>2011-10-07</td>\n",
       "      <td>2016-10-07</td>\n",
       "      <td>2015-08-27</td>\n",
       "      <td>2015-10-09</td>\n",
       "    </tr>\n",
       "    <tr>\n",
       "      <th>5</th>\n",
       "      <td>2013-02-19</td>\n",
       "      <td>2016-12-17</td>\n",
       "      <td>2014-12-17</td>\n",
       "      <td>2015-12-21</td>\n",
       "    </tr>\n",
       "    <tr>\n",
       "      <th>6</th>\n",
       "      <td>2010-02-05</td>\n",
       "      <td>2016-02-05</td>\n",
       "      <td>2015-12-15</td>\n",
       "      <td>2015-02-07</td>\n",
       "    </tr>\n",
       "    <tr>\n",
       "      <th>7</th>\n",
       "      <td>2009-06-04</td>\n",
       "      <td>2016-06-04</td>\n",
       "      <td>2015-05-23</td>\n",
       "      <td>2015-06-14</td>\n",
       "    </tr>\n",
       "    <tr>\n",
       "      <th>8</th>\n",
       "      <td>2011-07-11</td>\n",
       "      <td>2016-07-11</td>\n",
       "      <td>2015-06-19</td>\n",
       "      <td>2015-07-12</td>\n",
       "    </tr>\n",
       "    <tr>\n",
       "      <th>9</th>\n",
       "      <td>2005-04-15</td>\n",
       "      <td>2016-04-15</td>\n",
       "      <td>2005-04-15</td>\n",
       "      <td>2015-04-16</td>\n",
       "    </tr>\n",
       "    <tr>\n",
       "      <th>10</th>\n",
       "      <td>2008-07-01</td>\n",
       "      <td>2016-12-31</td>\n",
       "      <td>2008-07-01</td>\n",
       "      <td>2016-01-01</td>\n",
       "    </tr>\n",
       "    <tr>\n",
       "      <th>11</th>\n",
       "      <td>2010-02-16</td>\n",
       "      <td>2016-02-16</td>\n",
       "      <td>2014-06-29</td>\n",
       "      <td>2015-02-18</td>\n",
       "    </tr>\n",
       "    <tr>\n",
       "      <th>12</th>\n",
       "      <td>2013-02-06</td>\n",
       "      <td>2016-03-01</td>\n",
       "      <td>2014-02-06</td>\n",
       "      <td>2015-03-09</td>\n",
       "    </tr>\n",
       "    <tr>\n",
       "      <th>13</th>\n",
       "      <td>2009-11-17</td>\n",
       "      <td>2016-11-17</td>\n",
       "      <td>2015-09-20</td>\n",
       "      <td>2015-11-18</td>\n",
       "    </tr>\n",
       "    <tr>\n",
       "      <th>14</th>\n",
       "      <td>2010-12-14</td>\n",
       "      <td>2016-12-14</td>\n",
       "      <td>2014-06-27</td>\n",
       "      <td>2015-12-16</td>\n",
       "    </tr>\n",
       "    <tr>\n",
       "      <th>15</th>\n",
       "      <td>2012-05-09</td>\n",
       "      <td>2016-05-09</td>\n",
       "      <td>2012-05-09</td>\n",
       "      <td>2015-05-12</td>\n",
       "    </tr>\n",
       "    <tr>\n",
       "      <th>16</th>\n",
       "      <td>2011-05-06</td>\n",
       "      <td>2016-05-06</td>\n",
       "      <td>2011-05-06</td>\n",
       "      <td>2015-05-12</td>\n",
       "    </tr>\n",
       "    <tr>\n",
       "      <th>17</th>\n",
       "      <td>2012-04-02</td>\n",
       "      <td>2016-06-11</td>\n",
       "      <td>2015-06-11</td>\n",
       "      <td>2015-04-04</td>\n",
       "    </tr>\n",
       "    <tr>\n",
       "      <th>18</th>\n",
       "      <td>2013-04-26</td>\n",
       "      <td>2016-04-26</td>\n",
       "      <td>2013-04-26</td>\n",
       "      <td>2015-04-27</td>\n",
       "    </tr>\n",
       "    <tr>\n",
       "      <th>19</th>\n",
       "      <td>2013-03-13</td>\n",
       "      <td>2016-03-13</td>\n",
       "      <td>2013-03-13</td>\n",
       "      <td>2015-03-16</td>\n",
       "    </tr>\n",
       "  </tbody>\n",
       "</table>\n",
       "</div>"
      ],
      "text/plain": [
       "    date_activ    date_end date_modif_prod date_renewal\n",
       "0   2011-09-06  2016-09-06      2015-08-27   2015-09-07\n",
       "1   2010-12-13  2016-12-31      2010-12-13   2016-01-01\n",
       "2   2010-09-04  2016-09-04      2015-08-27   2015-09-05\n",
       "3   2011-01-03  2017-01-03      2011-01-03   2016-01-04\n",
       "4   2011-10-07  2016-10-07      2015-08-27   2015-10-09\n",
       "5   2013-02-19  2016-12-17      2014-12-17   2015-12-21\n",
       "6   2010-02-05  2016-02-05      2015-12-15   2015-02-07\n",
       "7   2009-06-04  2016-06-04      2015-05-23   2015-06-14\n",
       "8   2011-07-11  2016-07-11      2015-06-19   2015-07-12\n",
       "9   2005-04-15  2016-04-15      2005-04-15   2015-04-16\n",
       "10  2008-07-01  2016-12-31      2008-07-01   2016-01-01\n",
       "11  2010-02-16  2016-02-16      2014-06-29   2015-02-18\n",
       "12  2013-02-06  2016-03-01      2014-02-06   2015-03-09\n",
       "13  2009-11-17  2016-11-17      2015-09-20   2015-11-18\n",
       "14  2010-12-14  2016-12-14      2014-06-27   2015-12-16\n",
       "15  2012-05-09  2016-05-09      2012-05-09   2015-05-12\n",
       "16  2011-05-06  2016-05-06      2011-05-06   2015-05-12\n",
       "17  2012-04-02  2016-06-11      2015-06-11   2015-04-04\n",
       "18  2013-04-26  2016-04-26      2013-04-26   2015-04-27\n",
       "19  2013-03-13  2016-03-13      2013-03-13   2015-03-16"
      ]
     },
     "execution_count": 9,
     "metadata": {},
     "output_type": "execute_result"
    }
   ],
   "source": [
    "dfTest[['date_activ','date_end','date_modif_prod','date_renewal']].head(20)"
   ]
  },
  {
   "cell_type": "code",
   "execution_count": 11,
   "metadata": {},
   "outputs": [
    {
     "data": {
      "text/plain": [
       "Unnamed: 0           2012.5\n",
       "Churn_prediction        NaN\n",
       "Churn_probability       NaN\n",
       "dtype: float64"
      ]
     },
     "execution_count": 11,
     "metadata": {},
     "output_type": "execute_result"
    }
   ],
   "source": [
    "dfTestOutput.mean()"
   ]
  },
  {
   "cell_type": "code",
   "execution_count": 12,
   "metadata": {},
   "outputs": [
    {
     "name": "stdout",
     "output_type": "stream",
     "text": [
      "<class 'pandas.core.frame.DataFrame'>\n",
      "RangeIndex: 48236 entries, 0 to 48235\n",
      "Data columns (total 8 columns):\n",
      "id              48236 non-null object\n",
      "price_date      48236 non-null object\n",
      "price_p1_var    47934 non-null float64\n",
      "price_p2_var    47934 non-null float64\n",
      "price_p3_var    47934 non-null float64\n",
      "price_p1_fix    47934 non-null float64\n",
      "price_p2_fix    47934 non-null float64\n",
      "price_p3_fix    47934 non-null float64\n",
      "dtypes: float64(6), object(2)\n",
      "memory usage: 2.9+ MB\n"
     ]
    }
   ],
   "source": [
    "dfTestHist.info()"
   ]
  },
  {
   "cell_type": "code",
   "execution_count": 13,
   "metadata": {},
   "outputs": [],
   "source": [
    "#Join dfTestHist with dfTest1 to Append pricing history \n",
    "dfTest2 = pd.merge(dfTest, dfTestHist, on='id', how='inner')\n",
    "                                   \n",
    "# Create a set of dummy variables from the sex variable\n",
    "df_hasgas = pd.get_dummies(dfTest2['has_gas'])\n",
    "\n",
    "# Join the dummy variables to the main dataframe\n",
    "dfTest2 = pd.concat([dfTest2, df_hasgas], axis=1)                                    \n",
    "\n",
    "# Convert date to numeric \n",
    "dfTest2['date_activ'] = pd.to_numeric(dfTest2.date_activ.str.replace('-',''))\n",
    "dfTest2['date_end'] = pd.to_numeric(dfTest2.date_end.str.replace('-',''))\n",
    "dfTest2['date_first_activ'] = pd.to_numeric(dfTest2.date_first_activ.str.replace('-',''))\n",
    "dfTest2['date_modif_prod'] = pd.to_numeric(dfTest2.date_modif_prod.str.replace('-',''))\n",
    "dfTest2['date_renewal'] = pd.to_numeric(dfTest2.date_renewal.str.replace('-',''))\n",
    "dfTest2['price_date'] = pd.to_numeric(dfTest2.price_date.str.replace('-',''))\n",
    "\n",
    "# Create a binary variable to indicate missing values\n",
    "dfTest2['Flag_Miss'] = np.where(dfTest2['date_first_activ'] > 0, 0, 1)\n",
    "\n",
    "# Drops numeric columns with large % of missing value\n",
    "dfTest3 = dfTest2.drop(['campaign_disc_ele','date_first_activ','forecast_base_bill_ele','forecast_base_bill_year','forecast_bill_12m','forecast_cons','t'], axis=1)"
   ]
  },
  {
   "cell_type": "code",
   "execution_count": 14,
   "metadata": {},
   "outputs": [
    {
     "name": "stdout",
     "output_type": "stream",
     "text": [
      "<class 'pandas.core.frame.DataFrame'>\n",
      "Int64Index: 48236 entries, 0 to 48235\n",
      "Data columns (total 35 columns):\n",
      "id                          48236 non-null object\n",
      "activity_new                20024 non-null object\n",
      "channel_sales               35580 non-null object\n",
      "cons_12m                    48236 non-null int64\n",
      "cons_gas_12m                48236 non-null int64\n",
      "cons_last_month             48236 non-null int64\n",
      "date_activ                  48236 non-null int64\n",
      "date_end                    48236 non-null int64\n",
      "date_modif_prod             47697 non-null float64\n",
      "date_renewal                48188 non-null float64\n",
      "forecast_cons_12m           48236 non-null float64\n",
      "forecast_cons_year          48236 non-null int64\n",
      "forecast_discount_energy    47948 non-null float64\n",
      "forecast_meter_rent_12m     48236 non-null float64\n",
      "forecast_price_energy_p1    47948 non-null float64\n",
      "forecast_price_energy_p2    47948 non-null float64\n",
      "forecast_price_pow_p1       47948 non-null float64\n",
      "has_gas                     48236 non-null object\n",
      "imp_cons                    48236 non-null float64\n",
      "margin_gross_pow_ele        48212 non-null float64\n",
      "margin_net_pow_ele          48212 non-null float64\n",
      "nb_prod_act                 48236 non-null int64\n",
      "net_margin                  48200 non-null float64\n",
      "num_years_antig             48236 non-null int64\n",
      "origin_up                   47916 non-null object\n",
      "pow_max                     48224 non-null float64\n",
      "price_date                  48236 non-null int64\n",
      "price_p1_var                47934 non-null float64\n",
      "price_p2_var                47934 non-null float64\n",
      "price_p3_var                47934 non-null float64\n",
      "price_p1_fix                47934 non-null float64\n",
      "price_p2_fix                47934 non-null float64\n",
      "price_p3_fix                47934 non-null float64\n",
      "f                           48236 non-null uint8\n",
      "Flag_Miss                   48236 non-null int64\n",
      "dtypes: float64(19), int64(10), object(5), uint8(1)\n",
      "memory usage: 12.9+ MB\n"
     ]
    }
   ],
   "source": [
    "dfTest3.info()"
   ]
  },
  {
   "cell_type": "code",
   "execution_count": 15,
   "metadata": {},
   "outputs": [],
   "source": [
    "# Create a set of dummy variables from the channel_sales variable\n",
    "channel_sales = pd.get_dummies(dfTest3['channel_sales'],prefix='chs_', drop_first=True)"
   ]
  },
  {
   "cell_type": "code",
   "execution_count": 16,
   "metadata": {},
   "outputs": [
    {
     "data": {
      "text/plain": [
       "chs__ewpakwlliwisiwduibdlfmalxowmwpci    0.062567\n",
       "chs__fixdbufsefwooaasfcxdxadsiekoceaa    0.000498\n",
       "chs__foosdfpfkusacimwkcsosbicdxkicaua    0.445145\n",
       "chs__lmkebamcaaclubfxadlmueccxoimlema    0.131271\n",
       "chs__sddiedcslfslkckwlfkdpoeeailfpeds    0.000249\n",
       "chs__usilxuppasemubllopkaafesmlibmsdf    0.097396\n",
       "dtype: float64"
      ]
     },
     "execution_count": 16,
     "metadata": {},
     "output_type": "execute_result"
    }
   ],
   "source": [
    "channel_sales.mean()"
   ]
  },
  {
   "cell_type": "code",
   "execution_count": 17,
   "metadata": {},
   "outputs": [],
   "source": [
    "# Join the dummy variables to the main dataframe\n",
    "dfTest3 = pd.concat([dfTest3, channel_sales], axis=1) "
   ]
  },
  {
   "cell_type": "code",
   "execution_count": 18,
   "metadata": {},
   "outputs": [
    {
     "name": "stdout",
     "output_type": "stream",
     "text": [
      "<class 'pandas.core.frame.DataFrame'>\n",
      "Int64Index: 48236 entries, 0 to 48235\n",
      "Data columns (total 44 columns):\n",
      "id                                        48236 non-null object\n",
      "activity_new                              20024 non-null object\n",
      "channel_sales                             35580 non-null object\n",
      "cons_12m                                  48236 non-null int64\n",
      "cons_gas_12m                              48236 non-null int64\n",
      "cons_last_month                           48236 non-null int64\n",
      "date_activ                                48236 non-null int64\n",
      "date_end                                  48236 non-null int64\n",
      "date_modif_prod                           47697 non-null float64\n",
      "date_renewal                              48188 non-null float64\n",
      "forecast_cons_12m                         48236 non-null float64\n",
      "forecast_cons_year                        48236 non-null int64\n",
      "forecast_discount_energy                  47948 non-null float64\n",
      "forecast_meter_rent_12m                   48236 non-null float64\n",
      "forecast_price_energy_p1                  47948 non-null float64\n",
      "forecast_price_energy_p2                  47948 non-null float64\n",
      "forecast_price_pow_p1                     47948 non-null float64\n",
      "has_gas                                   48236 non-null object\n",
      "imp_cons                                  48236 non-null float64\n",
      "margin_gross_pow_ele                      48212 non-null float64\n",
      "margin_net_pow_ele                        48212 non-null float64\n",
      "nb_prod_act                               48236 non-null int64\n",
      "net_margin                                48200 non-null float64\n",
      "num_years_antig                           48236 non-null int64\n",
      "origin_up                                 47916 non-null object\n",
      "pow_max                                   48224 non-null float64\n",
      "price_date                                48236 non-null int64\n",
      "price_p1_var                              47934 non-null float64\n",
      "price_p2_var                              47934 non-null float64\n",
      "price_p3_var                              47934 non-null float64\n",
      "price_p1_fix                              47934 non-null float64\n",
      "price_p2_fix                              47934 non-null float64\n",
      "price_p3_fix                              47934 non-null float64\n",
      "f                                         48236 non-null uint8\n",
      "Flag_Miss                                 48236 non-null int64\n",
      "chs__ewpakwlliwisiwduibdlfmalxowmwpci     48236 non-null uint8\n",
      "chs__fixdbufsefwooaasfcxdxadsiekoceaa     48236 non-null uint8\n",
      "chs__foosdfpfkusacimwkcsosbicdxkicaua     48236 non-null uint8\n",
      "chs__lmkebamcaaclubfxadlmueccxoimlema     48236 non-null uint8\n",
      "chs__sddiedcslfslkckwlfkdpoeeailfpeds     48236 non-null uint8\n",
      "chs__usilxuppasemubllopkaafesmlibmsdf     48236 non-null uint8\n",
      "orig__kamkkxfxxuwbdslkwifmmcsiusiuosws    48236 non-null uint8\n",
      "orig__ldkssxwpmemidmecebumciepifcamkci    48236 non-null uint8\n",
      "orig__lxidpiddsbxsbosboudacockeimpuepw    48236 non-null uint8\n",
      "dtypes: float64(19), int64(10), object(5), uint8(10)\n",
      "memory usage: 13.3+ MB\n"
     ]
    }
   ],
   "source": [
    "# Create a set of dummy variables from the channel_sales variable\n",
    "origin_up = pd.get_dummies(dfTest3['origin_up'],prefix='orig_', drop_first=True)\n",
    "\n",
    "# Join the dummy variables to the main dataframe\n",
    "dfTest3 = pd.concat([dfTest3, origin_up], axis=1) \n",
    "dfTest3.info()"
   ]
  },
  {
   "cell_type": "code",
   "execution_count": 23,
   "metadata": {},
   "outputs": [],
   "source": [
    "dfTest4 = dfTest3.drop(['activity_new','has_gas','origin_up','channel_sales'], axis=1)"
   ]
  },
  {
   "cell_type": "code",
   "execution_count": 24,
   "metadata": {},
   "outputs": [],
   "source": [
    "# Rename the self-defined Churn coloumn name to churn_def \n",
    "dfTest4.rename(columns={'chs__ewpakwlliwisiwduibdlfmalxowmwpci': 'chs_ew'}, inplace=True)\n",
    "dfTest4.rename(columns={'chs__fixdbufsefwooaasfcxdxadsiekoceaa': 'chs_fi'}, inplace=True)\n",
    "dfTest4.rename(columns={'chs__foosdfpfkusacimwkcsosbicdxkicaua': 'chs_fo'}, inplace=True)\n",
    "dfTest4.rename(columns={'chs__lmkebamcaaclubfxadlmueccxoimlema': 'chs_lm'}, inplace=True)\n",
    "dfTest4.rename(columns={'chs__sddiedcslfslkckwlfkdpoeeailfpeds': 'chs_sd'}, inplace=True)\n",
    "dfTest4.rename(columns={'chs__usilxuppasemubllopkaafesmlibmsdf': 'chs_uf'}, inplace=True)\n",
    "\n",
    "dfTest4.rename(columns={'orig__kamkkxfxxuwbdslkwifmmcsiusiuosws': 'orig_ka'}, inplace=True)\n",
    "dfTest4.rename(columns={'orig__ldkssxwpmemidmecebumciepifcamkci': 'orig_ld'}, inplace=True)\n",
    "dfTest4.rename(columns={'orig__lxidpiddsbxsbosboudacockeimpuepw': 'orig_lx'}, inplace=True)\n",
    "dfTest4.rename(columns={'orig__usapbepcfoloekilkwsdiboslwaxobdp': 'orig_us'}, inplace=True)"
   ]
  },
  {
   "cell_type": "code",
   "execution_count": 25,
   "metadata": {},
   "outputs": [
    {
     "name": "stdout",
     "output_type": "stream",
     "text": [
      "<class 'pandas.core.frame.DataFrame'>\n",
      "Int64Index: 48236 entries, 0 to 48235\n",
      "Data columns (total 40 columns):\n",
      "id                          48236 non-null object\n",
      "cons_12m                    48236 non-null int64\n",
      "cons_gas_12m                48236 non-null int64\n",
      "cons_last_month             48236 non-null int64\n",
      "date_activ                  48236 non-null int64\n",
      "date_end                    48236 non-null int64\n",
      "date_modif_prod             47697 non-null float64\n",
      "date_renewal                48188 non-null float64\n",
      "forecast_cons_12m           48236 non-null float64\n",
      "forecast_cons_year          48236 non-null int64\n",
      "forecast_discount_energy    47948 non-null float64\n",
      "forecast_meter_rent_12m     48236 non-null float64\n",
      "forecast_price_energy_p1    47948 non-null float64\n",
      "forecast_price_energy_p2    47948 non-null float64\n",
      "forecast_price_pow_p1       47948 non-null float64\n",
      "imp_cons                    48236 non-null float64\n",
      "margin_gross_pow_ele        48212 non-null float64\n",
      "margin_net_pow_ele          48212 non-null float64\n",
      "nb_prod_act                 48236 non-null int64\n",
      "net_margin                  48200 non-null float64\n",
      "num_years_antig             48236 non-null int64\n",
      "pow_max                     48224 non-null float64\n",
      "price_date                  48236 non-null int64\n",
      "price_p1_var                47934 non-null float64\n",
      "price_p2_var                47934 non-null float64\n",
      "price_p3_var                47934 non-null float64\n",
      "price_p1_fix                47934 non-null float64\n",
      "price_p2_fix                47934 non-null float64\n",
      "price_p3_fix                47934 non-null float64\n",
      "f                           48236 non-null uint8\n",
      "Flag_Miss                   48236 non-null int64\n",
      "chs_ew                      48236 non-null uint8\n",
      "chs_fi                      48236 non-null uint8\n",
      "chs_fo                      48236 non-null uint8\n",
      "chs_lm                      48236 non-null uint8\n",
      "chs_sd                      48236 non-null uint8\n",
      "chs_uf                      48236 non-null uint8\n",
      "orig_ka                     48236 non-null uint8\n",
      "orig_ld                     48236 non-null uint8\n",
      "orig_lx                     48236 non-null uint8\n",
      "dtypes: float64(19), int64(10), object(1), uint8(10)\n",
      "memory usage: 11.9+ MB\n",
      "None\n"
     ]
    }
   ],
   "source": [
    "print dfTest4.info()"
   ]
  },
  {
   "cell_type": "code",
   "execution_count": 40,
   "metadata": {},
   "outputs": [],
   "source": [
    "cols_keep2 = [\n",
    "'id',\n",
    "'Flag_Miss',\n",
    "'orig_ka',\n",
    "'margin_gross_pow_ele',\n",
    "'chs_fo',\n",
    "'date_activ',\n",
    "'chs_lm',\n",
    "'date_modif_prod',\n",
    "'cons_12m',\n",
    "'cons_gas_12m',\n",
    "'f',\n",
    "'net_margin',\n",
    "'price_p2_var',\n",
    "'nb_prod_act',\n",
    "'date_renewal',\n",
    "'price_p1_fix',\n",
    "'forecast_price_energy_p1',\n",
    "'price_date']"
   ]
  },
  {
   "cell_type": "code",
   "execution_count": 41,
   "metadata": {},
   "outputs": [
    {
     "name": "stdout",
     "output_type": "stream",
     "text": [
      "<class 'pandas.core.frame.DataFrame'>\n",
      "Int64Index: 47049 entries, 0 to 48235\n",
      "Data columns (total 18 columns):\n",
      "id                          47049 non-null object\n",
      "Flag_Miss                   47049 non-null int64\n",
      "orig_ka                     47049 non-null uint8\n",
      "margin_gross_pow_ele        47049 non-null float64\n",
      "chs_fo                      47049 non-null uint8\n",
      "date_activ                  47049 non-null int64\n",
      "chs_lm                      47049 non-null uint8\n",
      "date_modif_prod             47049 non-null float64\n",
      "cons_12m                    47049 non-null int64\n",
      "cons_gas_12m                47049 non-null int64\n",
      "f                           47049 non-null uint8\n",
      "net_margin                  47049 non-null float64\n",
      "price_p2_var                47049 non-null float64\n",
      "nb_prod_act                 47049 non-null int64\n",
      "date_renewal                47049 non-null float64\n",
      "price_p1_fix                47049 non-null float64\n",
      "forecast_price_energy_p1    47049 non-null float64\n",
      "price_date                  47049 non-null int64\n",
      "dtypes: float64(7), int64(6), object(1), uint8(4)\n",
      "memory usage: 5.6+ MB\n"
     ]
    }
   ],
   "source": [
    "dfTest5 = dfTest4[cols_keep2]\n",
    "dfTest5 = dfTest5.dropna()\n",
    "dfTest5.info()"
   ]
  },
  {
   "cell_type": "code",
   "execution_count": 34,
   "metadata": {},
   "outputs": [],
   "source": [
    "X_test = dfTest5[cols_keep2]"
   ]
  },
  {
   "cell_type": "code",
   "execution_count": 38,
   "metadata": {},
   "outputs": [
    {
     "name": "stdout",
     "output_type": "stream",
     "text": [
      "<class 'pandas.core.frame.DataFrame'>\n",
      "RangeIndex: 16096 entries, 0 to 16095\n",
      "Data columns (total 2 columns):\n",
      "id       16096 non-null object\n",
      "churn    16096 non-null int64\n",
      "dtypes: int64(1), object(1)\n",
      "memory usage: 251.6+ KB\n"
     ]
    }
   ],
   "source": [
    "dfTrainOutput = pd.read_csv('ml_case_training_output.csv')\n",
    "dfTrainOutput.info()"
   ]
  },
  {
   "cell_type": "code",
   "execution_count": 42,
   "metadata": {},
   "outputs": [
    {
     "name": "stdout",
     "output_type": "stream",
     "text": [
      "<class 'pandas.core.frame.DataFrame'>\n",
      "Index: 0 entries\n",
      "Data columns (total 19 columns):\n",
      "id                          0 non-null object\n",
      "Flag_Miss                   0 non-null int64\n",
      "orig_ka                     0 non-null uint8\n",
      "margin_gross_pow_ele        0 non-null float64\n",
      "chs_fo                      0 non-null uint8\n",
      "date_activ                  0 non-null int64\n",
      "chs_lm                      0 non-null uint8\n",
      "date_modif_prod             0 non-null float64\n",
      "cons_12m                    0 non-null int64\n",
      "cons_gas_12m                0 non-null int64\n",
      "f                           0 non-null uint8\n",
      "net_margin                  0 non-null float64\n",
      "price_p2_var                0 non-null float64\n",
      "nb_prod_act                 0 non-null int64\n",
      "date_renewal                0 non-null float64\n",
      "price_p1_fix                0 non-null float64\n",
      "forecast_price_energy_p1    0 non-null float64\n",
      "price_date                  0 non-null int64\n",
      "churn                       0 non-null int64\n",
      "dtypes: float64(7), int64(7), object(1), uint8(4)\n",
      "memory usage: 0.0+ bytes\n"
     ]
    }
   ],
   "source": [
    "# Inner Joint dfTrainOutput with dfTest to Append Churned Flag \n",
    "dfTest6 = pd.merge(dfTest5, dfTrainOutput, on='id', how='inner')\n",
    "dfTest6.info()"
   ]
  },
  {
   "cell_type": "code",
   "execution_count": 45,
   "metadata": {},
   "outputs": [],
   "source": [
    "#import pickle\n",
    "#filename = 'final_model.sav'\n",
    "#Load the model from disk\n",
    "#loaded_model = pickle.load(open(filename, 'rb'))\n",
    "#result = loaded_model.score(X_test)\n",
    "#print(result)"
   ]
  },
  {
   "cell_type": "code",
   "execution_count": 47,
   "metadata": {},
   "outputs": [
    {
     "name": "stdout",
     "output_type": "stream",
     "text": [
      "<class 'pandas.core.frame.DataFrame'>\n",
      "RangeIndex: 4024 entries, 0 to 4023\n",
      "Data columns (total 4 columns):\n",
      "Unnamed: 0           4024 non-null int64\n",
      "id                   4024 non-null object\n",
      "Churn_prediction     0 non-null float64\n",
      "Churn_probability    0 non-null float64\n",
      "dtypes: float64(2), int64(1), object(1)\n",
      "memory usage: 125.8+ KB\n"
     ]
    }
   ],
   "source": [
    "dfTestOutput.info()"
   ]
  },
  {
   "cell_type": "code",
   "execution_count": null,
   "metadata": {},
   "outputs": [],
   "source": []
  },
  {
   "cell_type": "code",
   "execution_count": null,
   "metadata": {},
   "outputs": [],
   "source": []
  }
 ],
 "metadata": {
  "kernelspec": {
   "display_name": "Python 2",
   "language": "python",
   "name": "python2"
  },
  "language_info": {
   "codemirror_mode": {
    "name": "ipython",
    "version": 2
   },
   "file_extension": ".py",
   "mimetype": "text/x-python",
   "name": "python",
   "nbconvert_exporter": "python",
   "pygments_lexer": "ipython2",
   "version": "2.7.15"
  }
 },
 "nbformat": 4,
 "nbformat_minor": 2
}
